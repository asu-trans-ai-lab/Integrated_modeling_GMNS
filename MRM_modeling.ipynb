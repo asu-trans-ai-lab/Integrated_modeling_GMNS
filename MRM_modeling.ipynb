{
  "nbformat": 4,
  "nbformat_minor": 0,
  "metadata": {
    "colab": {
      "name": "MRM_modeling.ipynb",
      "provenance": [],
      "collapsed_sections": [],
      "toc_visible": true,
      "include_colab_link": true
    },
    "kernelspec": {
      "name": "python3",
      "display_name": "Python 3"
    },
    "language_info": {
      "name": "python"
    }
  },
  "cells": [
    {
      "cell_type": "markdown",
      "metadata": {
        "id": "view-in-github",
        "colab_type": "text"
      },
      "source": [
        "<a href=\"https://colab.research.google.com/github/asu-trans-ai-lab/Integrated_modeling_GMNS/blob/main/MRM_modeling.ipynb\" target=\"_parent\"><img src=\"https://colab.research.google.com/assets/colab-badge.svg\" alt=\"Open In Colab\"/></a>"
      ]
    },
    {
      "cell_type": "markdown",
      "metadata": {
        "id": "HUArQQu8ckkC"
      },
      "source": [
        "## Introduction\n",
        "- **GMNS**: The General Modeling Network Specification (GMNS) defines a common human and machine-readable format for sharing routable road network files. It is designed to be used in multi-modal static and dynamic transportation planning and operations models.\n",
        "\n",
        "- **AMS**: The objective of the AMS data hub is to define a prototype of operations and associated requirements that will allow for the effective integration of analysis modeling and simulation tools across various domains and scales. Easily exchange information and data at both the input and output levels.\n",
        "\n",
        "- **ASU Trans + AI Lab**: The team devotes to developing a better AMS data hub framework and a set of integrated open-source transportation tools. The objective of this notebook is to aggregate the developed software as a systematic modeling flow and demonstrate its successive steps, so call “7-steps modeling”. \n"
      ]
    },
    {
      "cell_type": "code",
      "metadata": {
        "colab": {
          "base_uri": "https://localhost:8080/",
          "height": 690
        },
        "id": "7TN3JHepPEq2",
        "outputId": "3e4d46d6-6933-473f-d233-ba3e13f17949"
      },
      "source": [
        "!pip install osm2gmns\n",
        "!pip install net2cell\n",
        "!pip install grid2demand"
      ],
      "execution_count": 6,
      "outputs": [
        {
          "output_type": "stream",
          "text": [
            "Collecting osm2gmns\n",
            "\u001b[?25l  Downloading https://files.pythonhosted.org/packages/18/e5/4ae062a0e64115254cb298640a3b3f7a96c1bd68498b2342b04cff04e066/osm2gmns-0.4.2-py3-none-any.whl (45kB)\n",
            "\u001b[K     |████████████████████████████████| 51kB 3.4MB/s \n",
            "\u001b[?25hCollecting protobuf>=3.14.0\n",
            "\u001b[?25l  Downloading https://files.pythonhosted.org/packages/7d/cc/abf8e30629db7a8b15efb79d4c87e235895d2c636ce7a4ac625cfc816f07/protobuf-3.15.6-cp37-cp37m-manylinux1_x86_64.whl (1.0MB)\n",
            "\u001b[K     |████████████████████████████████| 1.0MB 11.2MB/s \n",
            "\u001b[?25hRequirement already satisfied: shapely>=1.7 in /usr/local/lib/python3.7/dist-packages (from osm2gmns) (1.7.1)\n",
            "Requirement already satisfied: pandas>=0.24.0 in /usr/local/lib/python3.7/dist-packages (from osm2gmns) (1.1.5)\n",
            "Requirement already satisfied: six>=1.9 in /usr/local/lib/python3.7/dist-packages (from protobuf>=3.14.0->osm2gmns) (1.15.0)\n",
            "Requirement already satisfied: pytz>=2017.2 in /usr/local/lib/python3.7/dist-packages (from pandas>=0.24.0->osm2gmns) (2018.9)\n",
            "Requirement already satisfied: numpy>=1.15.4 in /usr/local/lib/python3.7/dist-packages (from pandas>=0.24.0->osm2gmns) (1.19.5)\n",
            "Requirement already satisfied: python-dateutil>=2.7.3 in /usr/local/lib/python3.7/dist-packages (from pandas>=0.24.0->osm2gmns) (2.8.1)\n",
            "Installing collected packages: protobuf, osm2gmns\n",
            "  Found existing installation: protobuf 3.12.4\n",
            "    Uninstalling protobuf-3.12.4:\n",
            "      Successfully uninstalled protobuf-3.12.4\n",
            "Successfully installed osm2gmns-0.4.2 protobuf-3.15.6\n"
          ],
          "name": "stdout"
        },
        {
          "output_type": "display_data",
          "data": {
            "application/vnd.colab-display-data+json": {
              "pip_warning": {
                "packages": [
                  "google"
                ]
              }
            }
          },
          "metadata": {
            "tags": []
          }
        },
        {
          "output_type": "stream",
          "text": [
            "Collecting net2cell\n",
            "  Downloading https://files.pythonhosted.org/packages/8b/64/812fc57ba46794d2f0152d44ab48e9418523c512fd46a3bf0873b90d39b5/net2cell-0.1.1-py3-none-any.whl\n",
            "Requirement already satisfied: pandas>=0.24.0 in /usr/local/lib/python3.7/dist-packages (from net2cell) (1.1.5)\n",
            "Requirement already satisfied: python-dateutil>=2.7.3 in /usr/local/lib/python3.7/dist-packages (from pandas>=0.24.0->net2cell) (2.8.1)\n",
            "Requirement already satisfied: numpy>=1.15.4 in /usr/local/lib/python3.7/dist-packages (from pandas>=0.24.0->net2cell) (1.19.5)\n",
            "Requirement already satisfied: pytz>=2017.2 in /usr/local/lib/python3.7/dist-packages (from pandas>=0.24.0->net2cell) (2018.9)\n",
            "Requirement already satisfied: six>=1.5 in /usr/local/lib/python3.7/dist-packages (from python-dateutil>=2.7.3->pandas>=0.24.0->net2cell) (1.15.0)\n",
            "Installing collected packages: net2cell\n",
            "Successfully installed net2cell-0.1.1\n",
            "Collecting grid2demand\n",
            "  Downloading https://files.pythonhosted.org/packages/df/f3/05e32c657f8f869d68f49e43ba4098cdb4648a068a01a99ac4d0503fffc7/grid2demand-0.0.1.25-py3-none-any.whl\n",
            "Requirement already satisfied: pandas>=0.24.0 in /usr/local/lib/python3.7/dist-packages (from grid2demand) (1.1.5)\n",
            "Requirement already satisfied: numpy in /usr/local/lib/python3.7/dist-packages (from grid2demand) (1.19.5)\n",
            "Requirement already satisfied: python-dateutil>=2.7.3 in /usr/local/lib/python3.7/dist-packages (from pandas>=0.24.0->grid2demand) (2.8.1)\n",
            "Requirement already satisfied: pytz>=2017.2 in /usr/local/lib/python3.7/dist-packages (from pandas>=0.24.0->grid2demand) (2018.9)\n",
            "Requirement already satisfied: six>=1.5 in /usr/local/lib/python3.7/dist-packages (from python-dateutil>=2.7.3->pandas>=0.24.0->grid2demand) (1.15.0)\n",
            "Installing collected packages: grid2demand\n",
            "Successfully installed grid2demand-0.0.1.25\n"
          ],
          "name": "stdout"
        }
      ]
    },
    {
      "cell_type": "code",
      "metadata": {
        "colab": {
          "base_uri": "https://localhost:8080/"
        },
        "id": "_5iPhrNgdP6A",
        "outputId": "9b97882f-9e29-4842-ca84-c8838ae031eb"
      },
      "source": [
        "\"import packages\"\n",
        "import pandas as pd\n",
        "import osm2gmns as og \n",
        "import net2cell as nc\n",
        "import grid2demand as gd\n",
        "\n",
        "from google.colab import files\n",
        "import requests\n",
        "import io\n",
        "import os\n",
        "import time"
      ],
      "execution_count": 7,
      "outputs": [
        {
          "output_type": "stream",
          "text": [
            "osm2gmns, version 0.4.2\n",
            "ocean, version 0.1.1\n",
            "grid2demand, version 0.0.1.25\n"
          ],
          "name": "stdout"
        }
      ]
    },
    {
      "cell_type": "markdown",
      "metadata": {
        "id": "55xMlltndZBA"
      },
      "source": [
        "#### Step 0. OSM data download\n",
        "\n",
        "https://osm2gmns.readthedocs.io/en/latest/index.html\n",
        "----\n",
        "| Step |    Description    |       Software       | Input Files | Output Files |\n",
        "|:----:|:-----------------:|:--------------------:|:-----------:|:------------:|\n",
        "| 0    | OSM data download | Open Street Map(OSM) | - -         | Map.osm      |"
      ]
    },
    {
      "cell_type": "code",
      "metadata": {
        "id": "i3_IjzP9dVu4"
      },
      "source": [
        "\"Step 0.1 define output map folders\"\n",
        "map_folder = 'map_folder'\n",
        "hybrid_net_folder = 'MRM_net_folder'"
      ],
      "execution_count": 8,
      "outputs": []
    },
    {
      "cell_type": "markdown",
      "metadata": {
        "id": "oEhLBvjhwXzZ"
      },
      "source": [
        "Option 1: Load file from local drive."
      ]
    },
    {
      "cell_type": "code",
      "metadata": {
        "id": "nKNJzwHCbbXe",
        "colab": {
          "resources": {
            "http://localhost:8080/nbextensions/google.colab/files.js": {
              "data": "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",
              "ok": true,
              "headers": [
                [
                  "content-type",
                  "application/javascript"
                ]
              ],
              "status": 200,
              "status_text": ""
            }
          },
          "base_uri": "https://localhost:8080/",
          "height": 90
        },
        "outputId": "04450ea2-dfda-4d37-d5d5-a300b975e40a"
      },
      "source": [
        "from google.colab import files\n",
        "\n",
        "uploaded = files.upload()\n",
        "\n",
        "for fn in uploaded.keys():\n",
        "  print('User uploaded file \"{name}\" with length {length} bytes'.format(\n",
        "      name=fn, length=len(uploaded[fn])))"
      ],
      "execution_count": null,
      "outputs": [
        {
          "output_type": "display_data",
          "data": {
            "text/html": [
              "\n",
              "     <input type=\"file\" id=\"files-fd36b424-1097-4045-8a21-ef62d83102e1\" name=\"files[]\" multiple disabled\n",
              "        style=\"border:none\" />\n",
              "     <output id=\"result-fd36b424-1097-4045-8a21-ef62d83102e1\">\n",
              "      Upload widget is only available when the cell has been executed in the\n",
              "      current browser session. Please rerun this cell to enable.\n",
              "      </output>\n",
              "      <script src=\"/nbextensions/google.colab/files.js\"></script> "
            ],
            "text/plain": [
              "<IPython.core.display.HTML object>"
            ]
          },
          "metadata": {
            "tags": []
          }
        },
        {
          "output_type": "stream",
          "text": [
            "Saving map.osm to map.osm\n",
            "User uploaded file \"map.osm\" with length 62061895 bytes\n"
          ],
          "name": "stdout"
        }
      ]
    },
    {
      "cell_type": "markdown",
      "metadata": {
        "id": "Akk5eoqFv2Rn"
      },
      "source": [
        "Option 2: load file from Github\n",
        "\n"
      ]
    },
    {
      "cell_type": "code",
      "metadata": {
        "id": "a-8G5Q5lv9bY"
      },
      "source": [
        "import pandas as pd\n",
        "import io\n",
        "import requests\n",
        "from time import time\n",
        "from google.colab import files\n",
        "url='https://raw.githubusercontent.com/asu-trans-ai-lab/Integrated_modeling_GMNS/main/examples/university_campus/Arizona_State_University/map.osm'\n",
        "s=requests.get(url).content\n"
      ],
      "execution_count": 14,
      "outputs": []
    },
    {
      "cell_type": "markdown",
      "metadata": {
        "id": "pfZ39iSliHaz"
      },
      "source": [
        "#### Step 1. Convert OSM data to GMNS\n",
        "one can display the network in NeXTA or QGIS.\n",
        "\n",
        "---\n",
        "| Step |    Description    |       Software       | Input Files | Output Files |\n",
        "|:----:|:-----------------:|:--------------------:|:-----------:|:------------:|\n",
        "| 0    | OSM data download | Open Street Map(OSM) | - -         | map.osm      |"
      ]
    },
    {
      "cell_type": "code",
      "metadata": {
        "id": "U3p_8G9VgxKc",
        "colab": {
          "base_uri": "https://localhost:8080/",
          "height": 370
        },
        "outputId": "d807818d-d532-4a86-9765-3701f64352fb"
      },
      "source": [
        "\"Step 1.1 get openstreet map file\"\n",
        "net = og.getNetFromOSMFile('map.osm', POIs=True,default_speed=True, default_lanes=True)\n",
        "\n",
        "\"Step 1.2 join poi information and activity information\"\n",
        "og.connectPOIWithNet(net)\n",
        "og.generateNodeActivityInfo(net)\n",
        "\n",
        "map_folder = 'map_folder'\n",
        "hybrid_net_folder = 'MRM_net_folder'\n",
        "\n",
        "\"Step 1.3 convert openstreet map file into GMNS network files: node.csv and link.csv\"\n",
        "og.outputNetToCSV(net, output_folder=map_folder)\n",
        "og.show(net)\n",
        "og.saveFig(net) \n"
      ],
      "execution_count": 17,
      "outputs": [
        {
          "output_type": "error",
          "ename": "FileNotFoundError",
          "evalue": "ignored",
          "traceback": [
            "\u001b[0;31m---------------------------------------------------------------------------\u001b[0m",
            "\u001b[0;31mFileNotFoundError\u001b[0m                         Traceback (most recent call last)",
            "\u001b[0;32m<ipython-input-17-54a80c5e924a>\u001b[0m in \u001b[0;36m<module>\u001b[0;34m()\u001b[0m\n\u001b[1;32m      1\u001b[0m \u001b[0;34m\"Step 1.1 get openstreet map file\"\u001b[0m\u001b[0;34m\u001b[0m\u001b[0;34m\u001b[0m\u001b[0m\n\u001b[0;32m----> 2\u001b[0;31m \u001b[0mnet\u001b[0m \u001b[0;34m=\u001b[0m \u001b[0mog\u001b[0m\u001b[0;34m.\u001b[0m\u001b[0mgetNetFromOSMFile\u001b[0m\u001b[0;34m(\u001b[0m\u001b[0;34m'map.osm'\u001b[0m\u001b[0;34m,\u001b[0m \u001b[0mPOIs\u001b[0m\u001b[0;34m=\u001b[0m\u001b[0;32mTrue\u001b[0m\u001b[0;34m,\u001b[0m\u001b[0mdefault_speed\u001b[0m\u001b[0;34m=\u001b[0m\u001b[0;32mTrue\u001b[0m\u001b[0;34m,\u001b[0m \u001b[0mdefault_lanes\u001b[0m\u001b[0;34m=\u001b[0m\u001b[0;32mTrue\u001b[0m\u001b[0;34m)\u001b[0m\u001b[0;34m\u001b[0m\u001b[0;34m\u001b[0m\u001b[0m\n\u001b[0m\u001b[1;32m      3\u001b[0m \u001b[0;34m\u001b[0m\u001b[0m\n\u001b[1;32m      4\u001b[0m \u001b[0;34m\"Step 1.2 join poi information and activity information\"\u001b[0m\u001b[0;34m\u001b[0m\u001b[0;34m\u001b[0m\u001b[0m\n\u001b[1;32m      5\u001b[0m \u001b[0mog\u001b[0m\u001b[0;34m.\u001b[0m\u001b[0mconnectPOIWithNet\u001b[0m\u001b[0;34m(\u001b[0m\u001b[0mnet\u001b[0m\u001b[0;34m)\u001b[0m\u001b[0;34m\u001b[0m\u001b[0;34m\u001b[0m\u001b[0m\n",
            "\u001b[0;32m/usr/local/lib/python3.7/dist-packages/osm2gmns/network.py\u001b[0m in \u001b[0;36mgetNetFromOSMFile\u001b[0;34m(osm_filename, network_type, POIs, strict_mode, min_nodes, combine, int_buffer, bbox, default_lanes, default_speed)\u001b[0m\n\u001b[1;32m    530\u001b[0m \u001b[0;34m\u001b[0m\u001b[0m\n\u001b[1;32m    531\u001b[0m     \u001b[0mnetwork_type_valid\u001b[0m \u001b[0;34m=\u001b[0m \u001b[0m_getValidNetworkType\u001b[0m\u001b[0;34m(\u001b[0m\u001b[0mnetwork_type\u001b[0m\u001b[0;34m)\u001b[0m\u001b[0;34m\u001b[0m\u001b[0;34m\u001b[0m\u001b[0m\n\u001b[0;32m--> 532\u001b[0;31m     \u001b[0mnetdata\u001b[0m \u001b[0;34m=\u001b[0m \u001b[0mreadXMLFile\u001b[0m\u001b[0;34m(\u001b[0m\u001b[0mosm_filename\u001b[0m\u001b[0;34m)\u001b[0m\u001b[0;34m\u001b[0m\u001b[0;34m\u001b[0m\u001b[0m\n\u001b[0m\u001b[1;32m    533\u001b[0m     \u001b[0mnetwork\u001b[0m \u001b[0;34m=\u001b[0m \u001b[0m_buildNet\u001b[0m\u001b[0;34m(\u001b[0m\u001b[0mnetdata\u001b[0m\u001b[0;34m,\u001b[0m\u001b[0mnetwork_type_valid\u001b[0m\u001b[0;34m,\u001b[0m \u001b[0mPOIs\u001b[0m\u001b[0;34m,\u001b[0m\u001b[0mstrict_mode\u001b[0m\u001b[0;34m,\u001b[0m \u001b[0mmin_nodes\u001b[0m\u001b[0;34m,\u001b[0m \u001b[0mcombine\u001b[0m\u001b[0;34m,\u001b[0m \u001b[0mint_buffer\u001b[0m\u001b[0;34m,\u001b[0m \u001b[0mbbox\u001b[0m\u001b[0;34m,\u001b[0m \u001b[0mdefault_lanes\u001b[0m\u001b[0;34m,\u001b[0m \u001b[0mdefault_speed\u001b[0m\u001b[0;34m)\u001b[0m\u001b[0;34m\u001b[0m\u001b[0;34m\u001b[0m\u001b[0m\n\u001b[1;32m    534\u001b[0m     \u001b[0;32mreturn\u001b[0m \u001b[0mnetwork\u001b[0m\u001b[0;34m\u001b[0m\u001b[0;34m\u001b[0m\u001b[0m\n",
            "\u001b[0;32m/usr/local/lib/python3.7/dist-packages/osm2gmns/readfile.py\u001b[0m in \u001b[0;36mreadXMLFile\u001b[0;34m(osm_filename)\u001b[0m\n\u001b[1;32m     32\u001b[0m     \u001b[0mnodes\u001b[0m\u001b[0;34m,\u001b[0m \u001b[0mways\u001b[0m\u001b[0;34m,\u001b[0m \u001b[0mrelations\u001b[0m \u001b[0;34m=\u001b[0m \u001b[0;34m[\u001b[0m\u001b[0;34m]\u001b[0m\u001b[0;34m,\u001b[0m \u001b[0;34m[\u001b[0m\u001b[0;34m]\u001b[0m\u001b[0;34m,\u001b[0m \u001b[0;34m[\u001b[0m\u001b[0;34m]\u001b[0m\u001b[0;34m\u001b[0m\u001b[0;34m\u001b[0m\u001b[0m\n\u001b[1;32m     33\u001b[0m \u001b[0;34m\u001b[0m\u001b[0m\n\u001b[0;32m---> 34\u001b[0;31m     \u001b[0mosmtree\u001b[0m \u001b[0;34m=\u001b[0m \u001b[0mET\u001b[0m\u001b[0;34m.\u001b[0m\u001b[0mElementTree\u001b[0m\u001b[0;34m(\u001b[0m\u001b[0mfile\u001b[0m\u001b[0;34m=\u001b[0m\u001b[0mosm_filename\u001b[0m\u001b[0;34m)\u001b[0m\u001b[0;34m\u001b[0m\u001b[0;34m\u001b[0m\u001b[0m\n\u001b[0m\u001b[1;32m     35\u001b[0m     \u001b[0mosmnet\u001b[0m \u001b[0;34m=\u001b[0m \u001b[0mosmtree\u001b[0m\u001b[0;34m.\u001b[0m\u001b[0mgetroot\u001b[0m\u001b[0;34m(\u001b[0m\u001b[0;34m)\u001b[0m\u001b[0;34m\u001b[0m\u001b[0;34m\u001b[0m\u001b[0m\n\u001b[1;32m     36\u001b[0m     \u001b[0;32mfor\u001b[0m \u001b[0melement\u001b[0m \u001b[0;32min\u001b[0m \u001b[0mosmnet\u001b[0m\u001b[0;34m:\u001b[0m\u001b[0;34m\u001b[0m\u001b[0;34m\u001b[0m\u001b[0m\n",
            "\u001b[0;32m/usr/lib/python3.7/xml/etree/ElementTree.py\u001b[0m in \u001b[0;36m__init__\u001b[0;34m(self, element, file)\u001b[0m\n\u001b[1;32m    556\u001b[0m         \u001b[0mself\u001b[0m\u001b[0;34m.\u001b[0m\u001b[0m_root\u001b[0m \u001b[0;34m=\u001b[0m \u001b[0melement\u001b[0m \u001b[0;31m# first node\u001b[0m\u001b[0;34m\u001b[0m\u001b[0;34m\u001b[0m\u001b[0m\n\u001b[1;32m    557\u001b[0m         \u001b[0;32mif\u001b[0m \u001b[0mfile\u001b[0m\u001b[0;34m:\u001b[0m\u001b[0;34m\u001b[0m\u001b[0;34m\u001b[0m\u001b[0m\n\u001b[0;32m--> 558\u001b[0;31m             \u001b[0mself\u001b[0m\u001b[0;34m.\u001b[0m\u001b[0mparse\u001b[0m\u001b[0;34m(\u001b[0m\u001b[0mfile\u001b[0m\u001b[0;34m)\u001b[0m\u001b[0;34m\u001b[0m\u001b[0;34m\u001b[0m\u001b[0m\n\u001b[0m\u001b[1;32m    559\u001b[0m \u001b[0;34m\u001b[0m\u001b[0m\n\u001b[1;32m    560\u001b[0m     \u001b[0;32mdef\u001b[0m \u001b[0mgetroot\u001b[0m\u001b[0;34m(\u001b[0m\u001b[0mself\u001b[0m\u001b[0;34m)\u001b[0m\u001b[0;34m:\u001b[0m\u001b[0;34m\u001b[0m\u001b[0;34m\u001b[0m\u001b[0m\n",
            "\u001b[0;32m/usr/lib/python3.7/xml/etree/ElementTree.py\u001b[0m in \u001b[0;36mparse\u001b[0;34m(self, source, parser)\u001b[0m\n\u001b[1;32m    585\u001b[0m         \u001b[0mclose_source\u001b[0m \u001b[0;34m=\u001b[0m \u001b[0;32mFalse\u001b[0m\u001b[0;34m\u001b[0m\u001b[0;34m\u001b[0m\u001b[0m\n\u001b[1;32m    586\u001b[0m         \u001b[0;32mif\u001b[0m \u001b[0;32mnot\u001b[0m \u001b[0mhasattr\u001b[0m\u001b[0;34m(\u001b[0m\u001b[0msource\u001b[0m\u001b[0;34m,\u001b[0m \u001b[0;34m\"read\"\u001b[0m\u001b[0;34m)\u001b[0m\u001b[0;34m:\u001b[0m\u001b[0;34m\u001b[0m\u001b[0;34m\u001b[0m\u001b[0m\n\u001b[0;32m--> 587\u001b[0;31m             \u001b[0msource\u001b[0m \u001b[0;34m=\u001b[0m \u001b[0mopen\u001b[0m\u001b[0;34m(\u001b[0m\u001b[0msource\u001b[0m\u001b[0;34m,\u001b[0m \u001b[0;34m\"rb\"\u001b[0m\u001b[0;34m)\u001b[0m\u001b[0;34m\u001b[0m\u001b[0;34m\u001b[0m\u001b[0m\n\u001b[0m\u001b[1;32m    588\u001b[0m             \u001b[0mclose_source\u001b[0m \u001b[0;34m=\u001b[0m \u001b[0;32mTrue\u001b[0m\u001b[0;34m\u001b[0m\u001b[0;34m\u001b[0m\u001b[0m\n\u001b[1;32m    589\u001b[0m         \u001b[0;32mtry\u001b[0m\u001b[0;34m:\u001b[0m\u001b[0;34m\u001b[0m\u001b[0;34m\u001b[0m\u001b[0m\n",
            "\u001b[0;31mFileNotFoundError\u001b[0m: [Errno 2] No such file or directory: 'map.osm'"
          ]
        }
      ]
    },
    {
      "cell_type": "markdown",
      "metadata": {
        "id": "2oLdpnhsikA6"
      },
      "source": [
        "#### Step 2. Please check content folder on the left side.  Convert GTFS data to GMNS"
      ]
    },
    {
      "cell_type": "markdown",
      "metadata": {
        "id": "6t5irvEgit9P"
      },
      "source": [
        "#### Step 3. Expand macroscopic network data to micro, meso\n",
        "one can display the networks in NeXTA or QGIS.\n",
        "\n",
        "---\n",
        "| Step |                   Description                  | Software |     Input Files    |                   Output Files                   |\n",
        "|:----:|:----------------------------------------------:|:--------:|:------------------:|:------------------------------------------------:|\n",
        "| 3    | Expand macroscopic network data to micro, meso | net2cell | Node.csv, Link.csv | Meso and micro networks in node.csv and link.csv |"
      ]
    },
    {
      "cell_type": "code",
      "metadata": {
        "colab": {
          "base_uri": "https://localhost:8080/"
        },
        "id": "DiQOE7ACh5SL",
        "outputId": "6dc2b511-3e39-45ce-bcdb-e22b19bfb811"
      },
      "source": [
        "\"Step 3.1 consolidate nodes in intersections\"\n",
        "og.consolidateComplexIntersections(net)\n",
        "og.outputNetToCSV(net, output_folder=hybrid_net_folder)\n",
        "\"Step 3.2 read macro network and convert it into hybrid networks (i.e. meso and micro net)\"\n",
        "macro_net = nc.readMacroNet(cwd=hybrid_net_folder)\n",
        "nc.generateHybridNets(macro_net)"
      ],
      "execution_count": null,
      "outputs": [
        {
          "output_type": "stream",
          "text": [
            "Reading input data...\n",
            "  reading node.csv\n",
            "  reading link.csv\n",
            "  warning: link id: 201, link length inconsistency detected. link length 55.5899234542448, coordinate length 40.72543482586822\n",
            "  warning: link id: 202, link length inconsistency detected. link length 55.58992345424478, coordinate length 70.46438930528055\n",
            "  warning: link id: 205, link length inconsistency detected. link length 71.24599452542431, coordinate length 86.77872849207868\n",
            "  warning: link id: 206, link length inconsistency detected. link length 71.24599452542431, coordinate length 56.658502934338685\n",
            "  warning: link id: 233, link length inconsistency detected. link length 60.30027312408945, coordinate length 73.16531651591849\n",
            "  warning: link id: 234, link length inconsistency detected. link length 60.30027312408944, coordinate length 47.548647860505206\n",
            "  warning: link id: 1601, link length inconsistency detected. link length 46.99173215767328, coordinate length 61.66431942059629\n",
            "  warning: link id: 1602, link length inconsistency detected. link length 46.99173215767328, coordinate length 32.37464972794079\n",
            "  warning: link id: 1869, link length inconsistency detected. link length 18.9356531131606, coordinate length 24.999538009683103\n",
            "  warning: link id: 1870, link length inconsistency detected. link length 18.9356531131606, coordinate length 13.059438225795407\n",
            "  warning: link id: 1944, link length inconsistency detected. link length 47.36652704699005, coordinate length 36.24188098623081\n",
            "  warning: link id: 1945, link length inconsistency detected. link length 47.36652704699005, coordinate length 58.49719661041973\n",
            "  warning: link id: 1968, link length inconsistency detected. link length 36.9139861992303, coordinate length 21.399650468000633\n",
            "  warning: link id: 1969, link length inconsistency detected. link length 36.9139861992303, coordinate length 52.51737963299461\n",
            "  warning: link id: 2005, link length inconsistency detected. link length 53.075194912291, coordinate length 64.57256488527712\n",
            "  warning: link id: 2006, link length inconsistency detected. link length 53.075194912291, coordinate length 41.73073049081533\n",
            "  warning: link id: 2251, link length inconsistency detected. link length 36.002517670354706, coordinate length 20.16745898522595\n",
            "  warning: link id: 2252, link length inconsistency detected. link length 36.002517670354706, coordinate length 51.839994454551515\n",
            "  warning: link id: 2267, link length inconsistency detected. link length 52.1513890030634, coordinate length 37.13803565955226\n",
            "  warning: link id: 2268, link length inconsistency detected. link length 52.1513890030634, coordinate length 67.20678475039861\n",
            "  warning: link id: 2330, link length inconsistency detected. link length 14.078724007079456, coordinate length 17.392680893284904\n",
            "  warning: link id: 2331, link length inconsistency detected. link length 14.078724007079456, coordinate length 10.730512533902939\n",
            "  warning: link id: 2332, link length inconsistency detected. link length 56.17464592273997, coordinate length 72.82436350718625\n",
            "  warning: link id: 2333, link length inconsistency detected. link length 56.17464592273997, coordinate length 39.590399365934736\n",
            "  warning: link id: 2338, link length inconsistency detected. link length 49.548242453798615, coordinate length 63.48711902120459\n",
            "  warning: link id: 2339, link length inconsistency detected. link length 49.548242453798615, coordinate length 35.715081431944114\n",
            "  warning: link id: 2465, link length inconsistency detected. link length 33.512749971620934, coordinate length 42.302851722985835\n",
            "  warning: link id: 2466, link length inconsistency detected. link length 33.512749971620934, coordinate length 24.738809321611747\n",
            "  warning: link id: 2525, link length inconsistency detected. link length 60.71323523937418, coordinate length 78.11389801642098\n",
            "  warning: link id: 2526, link length inconsistency detected. link length 60.71323523937418, coordinate length 43.401977379003675\n",
            "  warning: link id: 2549, link length inconsistency detected. link length 69.94655130733379, coordinate length 85.20865620794646\n",
            "  warning: link id: 2550, link length inconsistency detected. link length 69.94655130733379, coordinate length 54.75426207157436\n",
            "  warning: link id: 2579, link length inconsistency detected. link length 46.1790892730494, coordinate length 56.921327911015716\n",
            "  warning: link id: 2580, link length inconsistency detected. link length 46.1790892730494, coordinate length 36.03212627502523\n",
            "  warning: link id: 2581, link length inconsistency detected. link length 34.61296385937584, coordinate length 41.98744202148133\n",
            "  warning: link id: 2582, link length inconsistency detected. link length 34.61296385937583, coordinate length 27.313687938793652\n",
            "  warning: link id: 2611, link length inconsistency detected. link length 63.3524831175866, coordinate length 48.03388893082198\n",
            "  warning: link id: 2612, link length inconsistency detected. link length 63.3524831175866, coordinate length 78.70099883850554\n",
            "  warning: link id: 2645, link length inconsistency detected. link length 67.92938175759502, coordinate length 83.55714800621298\n",
            "  warning: link id: 2646, link length inconsistency detected. link length 67.92938175759504, coordinate length 52.26329389342928\n",
            "  warning: link id: 2647, link length inconsistency detected. link length 20.2262925370248, coordinate length 12.728833023443471\n",
            "  warning: link id: 2648, link length inconsistency detected. link length 20.226292537024804, coordinate length 27.757621671092497\n",
            "  warning: link id: 2651, link length inconsistency detected. link length 41.02890310874695, coordinate length 26.601904956680883\n",
            "  warning: link id: 2652, link length inconsistency detected. link length 41.02890310874695, coordinate length 55.40429270303862\n",
            "  warning: link id: 2667, link length inconsistency detected. link length 47.568115083859, coordinate length 64.99337302867157\n",
            "  warning: link id: 2668, link length inconsistency detected. link length 47.568115083859006, coordinate length 30.163120211614736\n",
            "  warning: link id: 2685, link length inconsistency detected. link length 25.95127586023179, coordinate length 20.032273831217278\n",
            "  warning: link id: 2686, link length inconsistency detected. link length 25.95127586023179, coordinate length 31.86656035932775\n",
            "  warning: link id: 2724, link length inconsistency detected. link length 48.77566497842218, coordinate length 60.190312618488065\n",
            "  warning: link id: 2725, link length inconsistency detected. link length 48.775664978422185, coordinate length 37.4753832752375\n",
            "  warning: link id: 2925, link length inconsistency detected. link length 61.65687207732582, coordinate length 75.31090884021091\n",
            "  warning: link id: 2926, link length inconsistency detected. link length 61.656872077325794, coordinate length 48.08366137986279\n",
            "  warning: link id: 3104, link length inconsistency detected. link length 61.373237821022656, coordinate length 45.97635476493978\n",
            "  warning: link id: 3105, link length inconsistency detected. link length 61.373237821022656, coordinate length 76.75248782921258\n",
            "  warning: link id: 3188, link length inconsistency detected. link length 68.55139194482925, coordinate length 89.13587048250987\n",
            "  warning: link id: 3189, link length inconsistency detected. link length 68.55139194482925, coordinate length 48.00758261285904\n",
            "  warning: link id: 3362, link length inconsistency detected. link length 44.90947466325141, coordinate length 34.423848205226626\n",
            "  warning: link id: 3363, link length inconsistency detected. link length 44.90947466325141, coordinate length 55.37940677536851\n",
            "  warning: link id: 3385, link length inconsistency detected. link length 54.641073689989405, coordinate length 66.07698385546882\n",
            "  warning: link id: 3439, link length inconsistency detected. link length 41.78026707624867, coordinate length 55.77909335651646\n",
            "  warning: link id: 3440, link length inconsistency detected. link length 41.78026707624867, coordinate length 27.847389867679233\n",
            "  warning: link id: 3447, link length inconsistency detected. link length 49.358365214480216, coordinate length 65.14350046038355\n",
            "  warning: link id: 3448, link length inconsistency detected. link length 49.358365214480216, coordinate length 33.53121331624136\n",
            "  warning: link id: 3455, link length inconsistency detected. link length 58.58923206689702, coordinate length 44.5338570633302\n",
            "  warning: link id: 3456, link length inconsistency detected. link length 58.58923206689701, coordinate length 72.79907669584853\n",
            "  warning: link id: 3558, link length inconsistency detected. link length 42.26774684659323, coordinate length 58.10351321202677\n",
            "  warning: link id: 3559, link length inconsistency detected. link length 42.26774684659323, coordinate length 26.47856088438106\n",
            "  warning: link id: 3566, link length inconsistency detected. link length 32.2410538512778, coordinate length 25.456445817640443\n",
            "  warning: link id: 3567, link length inconsistency detected. link length 32.2410538512778, coordinate length 39.071052686303524\n",
            "  warning: link id: 3574, link length inconsistency detected. link length 39.01137277157189, coordinate length 28.655086261558143\n",
            "  warning: link id: 3575, link length inconsistency detected. link length 39.01137277157189, coordinate length 49.3238610593922\n",
            "  warning: link id: 3583, link length inconsistency detected. link length 50.319138798452975, coordinate length 61.69053101442297\n",
            "  warning: link id: 3585, link length inconsistency detected. link length 57.473238712980034, coordinate length 69.01458041557561\n",
            "  warning: link id: 6007, link length inconsistency detected. link length 84.66082803759998, coordinate length 102.7500187234694\n",
            "  warning: link id: 6008, link length inconsistency detected. link length 84.66082803759998, coordinate length 66.68209144901346\n",
            "  warning: link id: 7341, link length inconsistency detected. link length 60.041931805136386, coordinate length 74.48935953753305\n",
            "  warning: link id: 7342, link length inconsistency detected. link length 60.041931805136386, coordinate length 45.71969007088824\n",
            "  warning: link id: 7395, link length inconsistency detected. link length 66.0603985586765, coordinate length 82.22420946352071\n",
            "  warning: link id: 7396, link length inconsistency detected. link length 66.06039855867648, coordinate length 49.93130604258208\n",
            "  warning: link id: 7761, link length inconsistency detected. link length 21.285638636767732, coordinate length 16.620691754917594\n",
            "  warning: link id: 7762, link length inconsistency detected. link length 21.285638636767732, coordinate length 25.896299699104514\n",
            "  warning: link id: 8642, link length inconsistency detected. link length 19.85015059154432, coordinate length 15.684219201107446\n",
            "  warning: link id: 8643, link length inconsistency detected. link length 19.85015059154432, coordinate length 24.032988850118528\n",
            "  warning: link id: 8646, link length inconsistency detected. link length 20.802488808489095, coordinate length 26.397017148333465\n",
            "  warning: link id: 8647, link length inconsistency detected. link length 20.802488808489095, coordinate length 15.174684281864998\n",
            "  warning: link id: 9320, link length inconsistency detected. link length 19.955835684022574, coordinate length 36.059418310514005\n",
            "  warning: link id: 9321, link length inconsistency detected. link length 19.955835684022574, coordinate length 3.817279676247938\n",
            "  warning: link id: 13739, link length inconsistency detected. link length 44.13269309280244, coordinate length 29.47935106825607\n",
            "  warning: link id: 13740, link length inconsistency detected. link length 44.13269309280244, coordinate length 58.74596706860702\n",
            "  warning: link id: 16585, link length inconsistency detected. link length 18.998042681248354, coordinate length 23.52115186278645\n",
            "  warning: link id: 16586, link length inconsistency detected. link length 18.998042681248354, coordinate length 14.530995350287874\n",
            "  warning: link id: 16587, link length inconsistency detected. link length 37.9107278303603, coordinate length 47.67742969598008\n",
            "  warning: link id: 16588, link length inconsistency detected. link length 37.9107278303603, coordinate length 28.16133417494386\n",
            "  warning: link id: 16589, link length inconsistency detected. link length 16.554016648514278, coordinate length 20.100584481315803\n",
            "  warning: link id: 16590, link length inconsistency detected. link length 16.554016648514278, coordinate length 12.977102361116394\n",
            "  warning: link id: 17460, link length inconsistency detected. link length 20.126051230898078, coordinate length 12.771521946196131\n",
            "  warning: link id: 17461, link length inconsistency detected. link length 20.126051230898078, coordinate length 27.50578125305504\n",
            "  warning: link id: 17723, link length inconsistency detected. link length 11.7313516982706, coordinate length 16.274364284499697\n",
            "  warning: link id: 17724, link length inconsistency detected. link length 11.7313516982706, coordinate length 7.201216354964747\n",
            "  warning: link id: 17725, link length inconsistency detected. link length 37.31771414115157, coordinate length 53.8315484652698\n",
            "  warning: link id: 17726, link length inconsistency detected. link length 37.31771414115156, coordinate length 20.812570971581806\n",
            "  warning: link id: 17729, link length inconsistency detected. link length 15.564618623255356, coordinate length 22.057986588797355\n",
            "  warning: link id: 17730, link length inconsistency detected. link length 15.564618623255356, coordinate length 9.09138206541596\n",
            "  warning: link id: 17731, link length inconsistency detected. link length 30.079498459473683, coordinate length 43.708269798397765\n",
            "  warning: link id: 17732, link length inconsistency detected. link length 30.079498459473683, coordinate length 16.45088892407382\n",
            "  warning: link id: 17805, link length inconsistency detected. link length 13.997807664233642, coordinate length 17.143757656557334\n",
            "  warning: link id: 17806, link length inconsistency detected. link length 13.997807664233635, coordinate length 10.863959005022569\n",
            "  warning: link id: 17807, link length inconsistency detected. link length 17.398440984722434, coordinate length 26.677482992610056\n",
            "  warning: link id: 17808, link length inconsistency detected. link length 17.398440984722434, coordinate length 8.123194595870523\n",
            "  warning: link id: 17809, link length inconsistency detected. link length 19.593711724496764, coordinate length 30.18186457247212\n",
            "  warning: link id: 17810, link length inconsistency detected. link length 19.593711724496764, coordinate length 9.018152005107734\n",
            "  warning: link id: 17811, link length inconsistency detected. link length 21.768831391333602, coordinate length 26.610042094617356\n",
            "  warning: link id: 17812, link length inconsistency detected. link length 21.768831391333602, coordinate length 16.98742838612466\n",
            "  warning: link id: 17813, link length inconsistency detected. link length 58.956405588376846, coordinate length 74.39610298844596\n",
            "  warning: link id: 17814, link length inconsistency detected. link length 58.956405588376846, coordinate length 43.493414369624496\n",
            "  warning: link id: 17815, link length inconsistency detected. link length 18.82065117716549, coordinate length 23.393962141714184\n",
            "  warning: link id: 17816, link length inconsistency detected. link length 18.82065117716549, coordinate length 14.236957458870988\n",
            "  warning: link id: 17817, link length inconsistency detected. link length 54.20411786405733, coordinate length 69.53058056408436\n",
            "  warning: link id: 17818, link length inconsistency detected. link length 54.20411786405731, coordinate length 38.92055977161858\n",
            "  warning: link id: 17821, link length inconsistency detected. link length 18.45845546874996, coordinate length 24.52350414396041\n",
            "  warning: link id: 17822, link length inconsistency detected. link length 18.458455468749953, coordinate length 12.379001393184879\n",
            "  warning: link id: 17823, link length inconsistency detected. link length 38.2271518732896, coordinate length 52.03545335592466\n",
            "  warning: link id: 17824, link length inconsistency detected. link length 38.2271518732896, coordinate length 24.45846065919726\n",
            "  warning: link id: 17825, link length inconsistency detected. link length 17.463076693169867, coordinate length 24.369525422156332\n",
            "  warning: link id: 17826, link length inconsistency detected. link length 17.463076693169867, coordinate length 10.550315147886897\n",
            "  warning: link id: 17827, link length inconsistency detected. link length 30.56648104366316, coordinate length 43.52111988676902\n",
            "  warning: link id: 17828, link length inconsistency detected. link length 30.56648104366316, coordinate length 17.639483117695335\n",
            "  warning: link id: 17829, link length inconsistency detected. link length 18.172215661063877, coordinate length 25.181662603657326\n",
            "  warning: link id: 17830, link length inconsistency detected. link length 18.172215661063877, coordinate length 11.155594891045197\n",
            "  warning: link id: 17831, link length inconsistency detected. link length 31.127007972676452, coordinate length 43.97860291044722\n",
            "  warning: link id: 17832, link length inconsistency detected. link length 31.12700797267645, coordinate length 18.304493856074945\n",
            "  warning: link id: 17833, link length inconsistency detected. link length 10.130580905166356, coordinate length 13.538502125892531\n",
            "  warning: link id: 17834, link length inconsistency detected. link length 10.130580905166356, coordinate length 6.719921526594328\n",
            "  warning: link id: 17835, link length inconsistency detected. link length 39.55364543046198, coordinate length 56.07948074238243\n",
            "  warning: link id: 17836, link length inconsistency detected. link length 39.553645430461984, coordinate length 23.05263186839889\n",
            "  warning: link id: 17837, link length inconsistency detected. link length 15.201207128621284, coordinate length 21.18548750249757\n",
            "  warning: link id: 17838, link length inconsistency detected. link length 15.201207128621288, coordinate length 9.23404019778168\n",
            "  warning: link id: 17839, link length inconsistency detected. link length 31.79239300574087, coordinate length 45.64171188872539\n",
            "  warning: link id: 17840, link length inconsistency detected. link length 31.792393005740863, coordinate length 17.946834172332466\n",
            "  warning: link id: 17841, link length inconsistency detected. link length 15.190357421001073, coordinate length 21.17549238137303\n",
            "  warning: link id: 17842, link length inconsistency detected. link length 15.190357421001073, coordinate length 9.222314716308285\n",
            "  warning: link id: 17843, link length inconsistency detected. link length 31.787083414991717, coordinate length 45.63964743037438\n",
            "  warning: link id: 17844, link length inconsistency detected. link length 31.787083414991727, coordinate length 17.9383693491509\n",
            "  warning: link id: 17845, link length inconsistency detected. link length 15.192462285713818, coordinate length 21.189503055336736\n",
            "  warning: link id: 17846, link length inconsistency detected. link length 15.19246228571382, coordinate length 9.212524931506016\n",
            "  warning: link id: 17847, link length inconsistency detected. link length 31.79904255127344, coordinate length 45.65158375220248\n",
            "  warning: link id: 17848, link length inconsistency detected. link length 31.799042551273445, coordinate length 17.950283901984772\n",
            "  warning: link id: 17849, link length inconsistency detected. link length 15.188301579462063, coordinate length 21.17336612258187\n",
            "  warning: link id: 17850, link length inconsistency detected. link length 15.188301579462063, coordinate length 9.220317596173295\n",
            "  warning: link id: 17851, link length inconsistency detected. link length 31.80226921319174, coordinate length 45.654847866908916\n",
            "  warning: link id: 17852, link length inconsistency detected. link length 31.802269213191728, coordinate length 17.95348843730321\n",
            "  warning: link id: 17853, link length inconsistency detected. link length 15.199432565017958, coordinate length 21.186675026174793\n",
            "  warning: link id: 17854, link length inconsistency detected. link length 15.199432565017958, coordinate length 9.229229186718747\n",
            "  warning: link id: 17855, link length inconsistency detected. link length 31.798814325424754, coordinate length 45.64824848061197\n",
            "  warning: link id: 17856, link length inconsistency detected. link length 31.798814325424754, coordinate length 17.953158375347606\n",
            "  warning: link id: 17857, link length inconsistency detected. link length 15.19441648324774, coordinate length 21.176366219887072\n",
            "  warning: link id: 17858, link length inconsistency detected. link length 15.19441648324774, coordinate length 9.229573863962132\n",
            "  warning: link id: 17859, link length inconsistency detected. link length 31.80281682962991, coordinate length 45.65540527076114\n",
            "  warning: link id: 17860, link length inconsistency detected. link length 31.80281682962991, coordinate length 17.95401485729588\n",
            "  warning: link id: 17894, link length inconsistency detected. link length 13.619289581868534, coordinate length 18.272015416324695\n",
            "  warning: link id: 17895, link length inconsistency detected. link length 13.619289581868534, coordinate length 8.972570612393971\n",
            "  warning: link id: 17896, link length inconsistency detected. link length 38.46585012762024, coordinate length 53.70344973636392\n",
            "  warning: link id: 17897, link length inconsistency detected. link length 38.46585012762025, coordinate length 23.245461243877724\n",
            "  warning: link id: 17898, link length inconsistency detected. link length 12.437317548232686, coordinate length 9.151524752771962\n",
            "  warning: link id: 17899, link length inconsistency detected. link length 12.437317548232686, coordinate length 15.755068049384128\n",
            "  warning: link id: 17900, link length inconsistency detected. link length 50.07793625615588, coordinate length 33.43935326749801\n",
            "  warning: link id: 17901, link length inconsistency detected. link length 50.07793625615588, coordinate length 66.71239496133146\n",
            "  warning: link id: 17902, link length inconsistency detected. link length 3.852405932078604, coordinate length 2.594552468471339\n",
            "  warning: link id: 17903, link length inconsistency detected. link length 3.852405932078604, coordinate length 5.106033685424392\n",
            "  warning: link id: 17904, link length inconsistency detected. link length 47.88617790219247, coordinate length 28.104558329090988\n",
            "  warning: link id: 17905, link length inconsistency detected. link length 47.88617790219247, coordinate length 67.69509873057994\n",
            "  warning: link id: 17906, link length inconsistency detected. link length 8.916851780892618, coordinate length 4.388829038683338\n",
            "  warning: link id: 17907, link length inconsistency detected. link length 8.916851780892618, coordinate length 13.463266428505674\n",
            "  warning: link id: 17908, link length inconsistency detected. link length 30.795028098640138, coordinate length 14.253363573623723\n",
            "  warning: link id: 17909, link length inconsistency detected. link length 30.79502809864014, coordinate length 47.33602850299299\n",
            "  warning: link id: 17983, link length inconsistency detected. link length 7.094374769340679, coordinate length 4.716764282250662\n",
            "  warning: link id: 17984, link length inconsistency detected. link length 7.094374769340679, coordinate length 9.456647450996032\n",
            "  warning: link id: 17985, link length inconsistency detected. link length 37.533877434186756, coordinate length 20.062179629718962\n",
            "  warning: link id: 17986, link length inconsistency detected. link length 37.533877434186756, coordinate length 55.040719697343214\n",
            "  warning: link id: 17987, link length inconsistency detected. link length 7.482034721098229, coordinate length 5.000638574631916\n",
            "  warning: link id: 17988, link length inconsistency detected. link length 7.482034721098229, coordinate length 9.951129844222994\n",
            "  warning: link id: 17989, link length inconsistency detected. link length 49.830758716506175, coordinate length 31.350404313683466\n",
            "  warning: link id: 17990, link length inconsistency detected. link length 49.830758716506175, coordinate length 68.34888856256703\n",
            "  warning: link id: 18162, link length inconsistency detected. link length 29.3656653537056, coordinate length 22.693304104835946\n",
            "  warning: link id: 18163, link length inconsistency detected. link length 29.3656653537056, coordinate length 36.05113070300044\n",
            "  warning: link id: 19389, link length inconsistency detected. link length 21.35497404629048, coordinate length 27.518673074762177\n",
            "  warning: link id: 19390, link length inconsistency detected. link length 21.354974046290483, coordinate length 15.161385188363408\n",
            "  warning: link id: 20266, link length inconsistency detected. link length 21.783776017281447, coordinate length 27.371658528923327\n",
            "  warning: link id: 20267, link length inconsistency detected. link length 21.783776017281447, coordinate length 16.226042279641923\n",
            "  warning: link id: 20270, link length inconsistency detected. link length 18.027466946367365, coordinate length 22.62680821797501\n",
            "  warning: link id: 20271, link length inconsistency detected. link length 18.027466946367376, coordinate length 13.410511439747232\n",
            "  warning: link id: 20286, link length inconsistency detected. link length 20.185043126441613, coordinate length 25.348028552200322\n",
            "  warning: link id: 20287, link length inconsistency detected. link length 20.185043126441613, coordinate length 14.997637590842347\n",
            "  warning: link id: 20411, link length inconsistency detected. link length 23.026309497599968, coordinate length 28.95083708099613\n",
            "  warning: link id: 20412, link length inconsistency detected. link length 23.026309497599968, coordinate length 17.127784903541794\n",
            "  warning: link id: 21083, link length inconsistency detected. link length 28.6193550626823, coordinate length 20.38659378948816\n",
            "  warning: link id: 21084, link length inconsistency detected. link length 28.6193550626823, coordinate length 36.86801476492167\n",
            "  warning: link id: 21085, link length inconsistency detected. link length 42.28084445364532, coordinate length 29.538785162396948\n",
            "  warning: link id: 21086, link length inconsistency detected. link length 42.28084445364531, coordinate length 55.03837814717448\n",
            "  warning: link id: 21109, link length inconsistency detected. link length 23.489383426512045, coordinate length 6.279191807558617\n",
            "  warning: link id: 21110, link length inconsistency detected. link length 23.48938342651205, coordinate length 40.99286855618388\n",
            "  warning: link id: 21111, link length inconsistency detected. link length 5.67645844878416, coordinate length 2.2091780100078577\n",
            "  warning: link id: 21112, link length inconsistency detected. link length 5.67645844878416, coordinate length 9.142854639277928\n",
            "  warning: link id: 21153, link length inconsistency detected. link length 59.92061371924383, coordinate length 78.62584735977852\n",
            "  warning: link id: 21154, link length inconsistency detected. link length 59.92061371924383, coordinate length 41.233981371360954\n",
            "  removing links shorter than 3.0 meters\n",
            "  46 short links have been removed\n",
            "Initilizing original links...\n",
            "Generating normal meso links...\n",
            "Generating connector links...\n",
            "Converting coordiantes back to latlon\n",
            "Output networks...\n"
          ],
          "name": "stdout"
        }
      ]
    },
    {
      "cell_type": "markdown",
      "metadata": {
        "id": "FRkpQeo0qSkX"
      },
      "source": [
        "\n",
        "Step 4. Zone-to-zone travel demand\n",
        "\n",
        "---\n",
        "| Step |         Description        |   Software  |                   Input Files                  |                       Output Files                       |\n",
        "|:----:|:--------------------------:|:-----------:|:----------------------------------------------:|:--------------------------------------------------------:|\n",
        "| 4    | Zone-to-zone travel demand | grid2demand | Node.csv, Link.csv, Poi.csv, Poi_trip_rate.csv | Demand.csv, Zone.csv, Accessibility.csv, Input_agent.csv |"
      ]
    },
    {
      "cell_type": "code",
      "metadata": {
        "colab": {
          "base_uri": "https://localhost:8080/"
        },
        "id": "7lyY5TB5qo_i",
        "outputId": "06f4057c-fd5e-4539-fe51-8ffaacd953a6"
      },
      "source": [
        "\"Step 4.1: Read Input Network Data\"\n",
        "net = gd.ReadNetworkFiles(input_folder=map_folder)\n",
        "\n",
        "\"Step 4.2: Partition Grid into cells\"\n",
        "zone = gd.PartitionGrid(number_of_x_blocks=5, number_of_y_blocks=5, cell_width=None, cell_height=None,\n",
        "                           latitude=30)\n",
        "# user can customize number of grid cells or cell's width and height\n",
        "\n",
        "\"Step 4.3: Get Production/Attraction Rates of Each Land Use Type with a Specific Trip Purpose\"\n",
        "triprate = gd.GetPoiTripRate(trip_rate_folder='',trip_purpose=1)\n",
        "# user can customize poi_trip_rate.csv and trip purpose\n",
        "\n",
        "\"Step 4.4: Define Production/Attraction Value of Each Node According to POI Type\"\n",
        "nodedemand = gd.GetNodeDemand()\n",
        "\n",
        "\"Step 4.5: Calculate Zone-to-zone Accessibility Matrix by Centroid-to-centroid Straight Distance\"\n",
        "accessibility = gd.ProduceAccessMatrix(latitude=30, accessibility_folder='')\n",
        "# user can customize the latitude of the research area and accessibility.csv\n",
        "\n",
        "\"Step 4.6: Apply Gravity Model to Conduct Trip Distribution\"\n",
        "demand = gd.RunGravityModel(trip_purpose=1, a=None, b=None, c=None)\n",
        "# user can customize friction factor coefficients under a specific trip purpose\n",
        "\"Step 7: Generate Agent\"\n",
        "demand = gd.GenerateAgentBasedDemand()"
      ],
      "execution_count": null,
      "outputs": [
        {
          "output_type": "stream",
          "text": [
            "2021-04-01 22:30:03,782 - grid2demand_0330a.py[line:848] - WARNING: poi_trip_rate.csv does not exist in the current folder. Default values will be used.\n",
            "2021-04-01 22:30:03,812 - grid2demand_0330a.py[line:971] - WARNING: Production value of residential nodes is not defined! Default value is 10.\n",
            "2021-04-01 22:30:03,814 - grid2demand_0330a.py[line:974] - WARNING: Attraction value of residential nodes is not defined! Default value is 10.\n",
            "2021-04-01 22:30:03,816 - grid2demand_0330a.py[line:977] - WARNING: Production value of boundary nodes is not defined! Default value is 1000.\n",
            "2021-04-01 22:30:03,818 - grid2demand_0330a.py[line:980] - WARNING: Attraction value of boundary nodes is not defined! Default value is 1000.\n"
          ],
          "name": "stderr"
        },
        {
          "output_type": "stream",
          "text": [
            "\n",
            "Number of zones including virtual zones = 45\n",
            "\n",
            "Tab of trip purposes used in grid2demand =  1\n",
            "\n",
            "Total number of poi nodes with unmatched production rate =  1566\n",
            "Total number of poi nodes with unmatched attraction rate =  598\n",
            "\n",
            "Latitude used for grid2demand =  30\n",
            "\n",
            "Number of OD pairs =  2025\n",
            "\n",
            "Largest accessibility of distance = 67.18 km\n",
            "Average accessibility of distance = 27.86 km\n",
            "\n",
            "Default values of friction factor coefficients under trip purpose 1: \n",
            "a= 28507 \n",
            "b= -0.02 \n",
            "c= -0.123\n",
            "\n",
            "Zone-to-zone OD pair with largest volume is from Gate18 to Gate17\n",
            "Origin zone with largest production volume is Gate18\n",
            "Destination zone with largest attraction volume is Gate18\n",
            "\n",
            "Number of agents =  1196519\n"
          ],
          "name": "stdout"
        }
      ]
    },
    {
      "cell_type": "markdown",
      "metadata": {
        "id": "u558xfb5gSH6"
      },
      "source": [
        "#### Step 5. Traffic signal for timing\n",
        "\n",
        "---\n",
        "| Step |        Description        |                 Software                |            Input Files           | Output Files |\n",
        "|:----:|:-------------------------:|:---------------------------------------:|:--------------------------------:|:------------:|\n",
        "| 5    | Traffic signal for timing | Signal2timing (In development), Sigma-X | Node.csv, Link.csv, Movement.csv | Timing.csv   |"
      ]
    },
    {
      "cell_type": "markdown",
      "metadata": {
        "id": "s6yxc-KIiBRJ"
      },
      "source": [
        ""
      ]
    },
    {
      "cell_type": "code",
      "metadata": {
        "colab": {
          "base_uri": "https://localhost:8080/"
        },
        "id": "ME9WqvMDjZPw",
        "outputId": "51b8ded0-98e3-4ec5-fc1f-7e961e5e6f72"
      },
      "source": [
        "\n",
        "!zip -r /content/MRM.zip /content\n"
      ],
      "execution_count": null,
      "outputs": [
        {
          "output_type": "stream",
          "text": [
            "updating: content/map_folder/ (stored 0%)\n",
            "updating: content/map_folder/accessibility.csv (deflated 81%)\n",
            "updating: content/map_folder/input_agent.csv (deflated 80%)\n",
            "updating: content/map_folder/poi_trip_rate.csv (deflated 77%)\n",
            "updating: content/map_folder/poi.csv (deflated 74%)\n",
            "updating: content/map_folder/log.txt (deflated 92%)\n",
            "updating: content/map_folder/demand.csv (deflated 74%)\n",
            "updating: content/map_folder/link.csv (deflated 81%)\n",
            "updating: content/map_folder/node.csv (deflated 76%)\n",
            "updating: content/map_folder/zone.csv (deflated 76%)\n",
            "  adding: content/ (stored 0%)\n",
            "  adding: content/.config/ (stored 0%)\n",
            "  adding: content/.config/active_config (stored 0%)\n",
            "  adding: content/.config/gce (stored 0%)\n",
            "  adding: content/.config/logs/ (stored 0%)\n",
            "  adding: content/.config/logs/2021.03.25/ (stored 0%)\n",
            "  adding: content/.config/logs/2021.03.25/13.38.09.835215.log (deflated 54%)\n",
            "  adding: content/.config/logs/2021.03.25/13.37.29.839683.log (deflated 91%)\n",
            "  adding: content/.config/logs/2021.03.25/13.38.04.266969.log (deflated 87%)\n",
            "  adding: content/.config/logs/2021.03.25/13.38.26.474054.log (deflated 54%)\n",
            "  adding: content/.config/logs/2021.03.25/13.37.48.611688.log (deflated 53%)\n",
            "  adding: content/.config/logs/2021.03.25/13.38.27.034051.log (deflated 53%)\n",
            "  adding: content/.config/.last_update_check.json (deflated 22%)\n",
            "  adding: content/.config/.last_opt_in_prompt.yaml (stored 0%)\n",
            "  adding: content/.config/config_sentinel (stored 0%)\n",
            "  adding: content/.config/.last_survey_prompt.yaml (stored 0%)\n",
            "  adding: content/.config/configurations/ (stored 0%)\n",
            "  adding: content/.config/configurations/config_default (deflated 15%)\n",
            "  adding: content/network.jpg (deflated 4%)\n",
            "  adding: content/map.osm (deflated 91%)\n",
            "  adding: content/map_folder.zip (stored 0%)\n",
            "  adding: content/connector.csv (deflated 88%)\n",
            "  adding: content/MRM_net_folder/ (stored 0%)\n",
            "  adding: content/MRM_net_folder/poi.csv (deflated 73%)\n",
            "  adding: content/MRM_net_folder/micronet/ (stored 0%)\n",
            "  adding: content/MRM_net_folder/micronet/link.csv (deflated 86%)\n",
            "  adding: content/MRM_net_folder/micronet/node.csv (deflated 83%)\n",
            "  adding: content/MRM_net_folder/macronet/ (stored 0%)\n",
            "  adding: content/MRM_net_folder/macronet/link.csv (deflated 78%)\n",
            "  adding: content/MRM_net_folder/macronet/node.csv (deflated 79%)\n",
            "  adding: content/MRM_net_folder/link.csv (deflated 81%)\n",
            "  adding: content/MRM_net_folder/mesonet/ (stored 0%)\n",
            "  adding: content/MRM_net_folder/mesonet/link.csv (deflated 81%)\n",
            "  adding: content/MRM_net_folder/mesonet/node.csv (deflated 79%)\n",
            "  adding: content/MRM_net_folder/node.csv (deflated 73%)\n",
            "  adding: content/map_folder/ (stored 0%)\n",
            "  adding: content/map_folder/accessibility.csv (deflated 81%)\n",
            "  adding: content/map_folder/input_agent.csv (deflated 80%)\n",
            "  adding: content/map_folder/poi_trip_rate.csv (deflated 77%)\n",
            "  adding: content/map_folder/poi.csv (deflated 74%)\n",
            "  adding: content/map_folder/log.txt (deflated 92%)\n",
            "  adding: content/map_folder/demand.csv (deflated 74%)\n",
            "  adding: content/map_folder/link.csv (deflated 81%)\n",
            "  adding: content/map_folder/node.csv (deflated 76%)\n",
            "  adding: content/map_folder/zone.csv (deflated 76%)\n",
            "  adding: content/sample_data/ (stored 0%)\n",
            "  adding: content/sample_data/anscombe.json (deflated 83%)\n",
            "  adding: content/sample_data/README.md (deflated 42%)\n",
            "  adding: content/sample_data/california_housing_train.csv (deflated 79%)\n",
            "  adding: content/sample_data/mnist_test.csv (deflated 88%)\n",
            "  adding: content/sample_data/mnist_train_small.csv (deflated 88%)\n",
            "  adding: content/sample_data/california_housing_test.csv (deflated 76%)\n"
          ],
          "name": "stdout"
        }
      ]
    }
  ]
}