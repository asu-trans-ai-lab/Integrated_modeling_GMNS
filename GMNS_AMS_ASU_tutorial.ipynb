{
  "nbformat": 4,
  "nbformat_minor": 0,
  "metadata": {
    "colab": {
      "provenance": [],
      "authorship_tag": "ABX9TyO82UUKmz+lSsbM0R5MvjA1",
      "include_colab_link": true
    },
    "kernelspec": {
      "name": "python3",
      "display_name": "Python 3"
    },
    "language_info": {
      "name": "python"
    }
  },
  "cells": [
    {
      "cell_type": "markdown",
      "metadata": {
        "id": "view-in-github",
        "colab_type": "text"
      },
      "source": [
        "<a href=\"https://colab.research.google.com/github/asu-trans-ai-lab/Integrated_modeling_GMNS/blob/main/GMNS_AMS_ASU_tutorial.ipynb\" target=\"_parent\"><img src=\"https://colab.research.google.com/assets/colab-badge.svg\" alt=\"Open In Colab\"/></a>"
      ]
    },
    {
      "cell_type": "markdown",
      "source": [
        "This tutorial will go through the traffic network modeling process using ASU network as an example.\n",
        "\n",
        "The tutorial will cover the following steps:\n",
        "\n",
        "*   OSM2GMNS: Downloading your OSM data and converting to GMNS format\n",
        "*   GRID2DEMAND: Generating the zones and OD matrices\n",
        "*   PATH4GMNS: Running DTA module of path4gmns\n",
        "\n",
        "You can run step-by-step with this tutorial to get a quick overview of the program flow.\n",
        "\n",
        "Before you start, make sure you have the following libraries installed and introduced into the programme:"
      ],
      "metadata": {
        "id": "Ms_BG7EscvQN"
      }
    },
    {
      "cell_type": "code",
      "execution_count": null,
      "metadata": {
        "colab": {
          "base_uri": "https://localhost:8080/"
        },
        "id": "35m6iNZxbaOn",
        "outputId": "abf982d0-7d58-4b54-894b-ed072d3972d7"
      },
      "outputs": [
        {
          "output_type": "stream",
          "name": "stdout",
          "text": [
            "Requirement already satisfied: pandas in /usr/local/lib/python3.10/dist-packages (1.5.3)\n",
            "Requirement already satisfied: python-dateutil>=2.8.1 in /usr/local/lib/python3.10/dist-packages (from pandas) (2.8.2)\n",
            "Requirement already satisfied: pytz>=2020.1 in /usr/local/lib/python3.10/dist-packages (from pandas) (2023.4)\n",
            "Requirement already satisfied: numpy>=1.21.0 in /usr/local/lib/python3.10/dist-packages (from pandas) (1.23.5)\n",
            "Requirement already satisfied: six>=1.5 in /usr/local/lib/python3.10/dist-packages (from python-dateutil>=2.8.1->pandas) (1.16.0)\n",
            "Collecting osm2gmns\n",
            "  Downloading osm2gmns-0.7.3-py3-none-any.whl (59 kB)\n",
            "\u001b[2K     \u001b[90m━━━━━━━━━━━━━━━━━━━━━━━━━━━━━━━━━━━━━━━━\u001b[0m \u001b[32m59.8/59.8 kB\u001b[0m \u001b[31m2.6 MB/s\u001b[0m eta \u001b[36m0:00:00\u001b[0m\n",
            "\u001b[?25hRequirement already satisfied: shapely>=2.0.1 in /usr/local/lib/python3.10/dist-packages (from osm2gmns) (2.0.2)\n",
            "Collecting osmium>=3.1.3 (from osm2gmns)\n",
            "  Downloading osmium-3.7.0-cp310-cp310-manylinux_2_17_x86_64.manylinux2014_x86_64.whl (1.3 MB)\n",
            "\u001b[2K     \u001b[90m━━━━━━━━━━━━━━━━━━━━━━━━━━━━━━━━━━━━━━━━\u001b[0m \u001b[32m1.3/1.3 MB\u001b[0m \u001b[31m25.7 MB/s\u001b[0m eta \u001b[36m0:00:00\u001b[0m\n",
            "\u001b[?25hRequirement already satisfied: numpy in /usr/local/lib/python3.10/dist-packages (from osm2gmns) (1.23.5)\n",
            "Requirement already satisfied: requests in /usr/local/lib/python3.10/dist-packages (from osmium>=3.1.3->osm2gmns) (2.31.0)\n",
            "Requirement already satisfied: charset-normalizer<4,>=2 in /usr/local/lib/python3.10/dist-packages (from requests->osmium>=3.1.3->osm2gmns) (3.3.2)\n",
            "Requirement already satisfied: idna<4,>=2.5 in /usr/local/lib/python3.10/dist-packages (from requests->osmium>=3.1.3->osm2gmns) (3.6)\n",
            "Requirement already satisfied: urllib3<3,>=1.21.1 in /usr/local/lib/python3.10/dist-packages (from requests->osmium>=3.1.3->osm2gmns) (2.0.7)\n",
            "Requirement already satisfied: certifi>=2017.4.17 in /usr/local/lib/python3.10/dist-packages (from requests->osmium>=3.1.3->osm2gmns) (2023.11.17)\n",
            "Installing collected packages: osmium, osm2gmns\n",
            "Successfully installed osm2gmns-0.7.3 osmium-3.7.0\n",
            "Collecting grid2demand\n",
            "  Downloading grid2demand-0.3.9-py3-none-any.whl (29 kB)\n",
            "Requirement already satisfied: numpy in /usr/local/lib/python3.10/dist-packages (from grid2demand) (1.23.5)\n",
            "Requirement already satisfied: pandas in /usr/local/lib/python3.10/dist-packages (from grid2demand) (1.5.3)\n",
            "Requirement already satisfied: shapely in /usr/local/lib/python3.10/dist-packages (from grid2demand) (2.0.2)\n",
            "Requirement already satisfied: python-dateutil>=2.8.1 in /usr/local/lib/python3.10/dist-packages (from pandas->grid2demand) (2.8.2)\n",
            "Requirement already satisfied: pytz>=2020.1 in /usr/local/lib/python3.10/dist-packages (from pandas->grid2demand) (2023.4)\n",
            "Requirement already satisfied: six>=1.5 in /usr/local/lib/python3.10/dist-packages (from python-dateutil>=2.8.1->pandas->grid2demand) (1.16.0)\n",
            "Installing collected packages: grid2demand\n",
            "Successfully installed grid2demand-0.3.9\n",
            "Collecting path4gmns\n",
            "  Downloading path4gmns-0.9.8-py3-none-any.whl (1.8 MB)\n",
            "\u001b[2K     \u001b[90m━━━━━━━━━━━━━━━━━━━━━━━━━━━━━━━━━━━━━━━━\u001b[0m \u001b[32m1.8/1.8 MB\u001b[0m \u001b[31m23.5 MB/s\u001b[0m eta \u001b[36m0:00:00\u001b[0m\n",
            "\u001b[?25hInstalling collected packages: path4gmns\n",
            "Successfully installed path4gmns-0.9.8\n"
          ]
        }
      ],
      "source": [
        "!pip install pandas\n",
        "!pip install osm2gmns\n",
        "!pip install grid2demand\n",
        "!pip install path4gmns"
      ]
    },
    {
      "cell_type": "code",
      "source": [
        "from __future__ import absolute_import\n",
        "import pandas as pd\n",
        "import osm2gmns as og\n",
        "from grid2demand import GRID2DEMAND\n",
        "import path4gmns as pg"
      ],
      "metadata": {
        "colab": {
          "base_uri": "https://localhost:8080/"
        },
        "id": "Ve8y8oivbdGU",
        "outputId": "8f13c5ed-bcb6-4fb1-9e8e-a51a0576ae47"
      },
      "execution_count": null,
      "outputs": [
        {
          "output_type": "stream",
          "name": "stdout",
          "text": [
            "osm2gmns, 0.7.3\n",
            "grid2demand, version 0.3.9\n",
            "path4gmns, version 0.9.8\n"
          ]
        }
      ]
    },
    {
      "cell_type": "markdown",
      "source": [
        "The OSM2GMNS module allows you to download the desired area using the relation code, which can be obtained from the official [OpenStreetMap](https://www.openstreetmap.org/#map=18/33.42141/-111.93472&layers=DG) website. Alternatively, if you already have the OSM file, you can skip downloading the map and go straight to the conversion process."
      ],
      "metadata": {
        "id": "rOHOIjg8eAcM"
      }
    },
    {
      "cell_type": "code",
      "source": [
        "og.downloadOSMData(3444656, 'asu.osm')\n",
        "input_file = 'asu.osm'"
      ],
      "metadata": {
        "id": "vOPj_s9QfdzZ"
      },
      "execution_count": null,
      "outputs": []
    },
    {
      "cell_type": "markdown",
      "source": [
        "Using the OSM data, the OSM2GMNS module generates the node and link files, and optionally the poi file as well. Moreover, the user is also allowed to change important parameters (such as mode types), which enables the user to customize their network data. Please refer to the [OSM2GMNS GitHub](https://github.com/asu-trans-ai-lab/OSM2GMNS) website for more details."
      ],
      "metadata": {
        "id": "h6AleAm6gFms"
      }
    },
    {
      "cell_type": "code",
      "source": [
        "net = og.getNetFromFile(input_file,\n",
        "                        network_types=('auto'),\n",
        "                        POI=True,\n",
        "                        POI_sampling_ratio=1,\n",
        "                        strict_mode=True,\n",
        "                        min_nodes=10,\n",
        "                        default_lanes=True,\n",
        "                        default_speed=True,\n",
        "                        default_capacity=True,\n",
        "                        start_node_id=0,\n",
        "                        start_link_id=0)\n",
        "default_lanes_dict = {'motorway': 4, 'trunk': 3, 'primary': 3, 'secondary': 2, 'tertiary': 2,\n",
        "                      'residential': 1, 'service': 1, 'cycleway':1, 'footway':1, 'track':1,\n",
        "                      'unclassified': 1, 'connector': 2}\n",
        "default_speed_dict = {'motorway': 120, 'trunk': 100, 'primary': 80, 'secondary': 60, 'tertiary': 40,\n",
        "                      'residential': 30, 'service': 30, 'cycleway':5, 'footway':5, 'track':30,\n",
        "                      'unclassified': 30, 'connector':120}\n",
        "default_capacity_dict = {'motorway': 2300, 'trunk': 2200, 'primary': 1800, 'secondary': 1600, 'tertiary': 1200,\n",
        "                      'residential': 1000, 'service': 800, 'cycleway':800, 'footway':800, 'track':800,\n",
        "                      'unclassified': 800, 'connector':9999}\n",
        "og.connectPOIWithNet(net)\n",
        "og.generateNodeActivityInfo(net)\n",
        "og.outputNetToCSV(net)"
      ],
      "metadata": {
        "colab": {
          "base_uri": "https://localhost:8080/"
        },
        "id": "HzgBAIG-beN0",
        "outputId": "06112667-59f0-47f6-d445-cff53e85214f"
      },
      "execution_count": null,
      "outputs": [
        {
          "output_type": "stream",
          "name": "stdout",
          "text": [
            "valid reponses got from API server.\n",
            "receving data...\n",
            "map data has been written to asu.osm\n",
            "arguments used for network parsing:\n",
            "  filename: asu.osm\n",
            "  network_types: auto\n",
            "  link_types: all\n",
            "  POI: True\n",
            "  POI_sampling_ratio: 1\n",
            "  strict_mode: True\n",
            "  offset: no\n",
            "  min_nodes: 10\n",
            "  combine: False\n",
            "  bbox: None\n",
            "  default_lanes: True\n",
            "  default_speed: True\n",
            "  default_capacity: True\n",
            "  start_node_id: 0\n",
            "  start_link_id: 0\n",
            "\n",
            "Building Network from OSM file\n",
            "  reading osm file\n",
            "  parsing osm network\n",
            "    generating nodes and links\n",
            "    generating POIs\n",
            "    removing sub networks with less than 10 nodes\n",
            "  number of nodes: 117, number of links: 186, number of pois: 511\n",
            "Generating Node Activity Information\n",
            "Outputting Network Files\n"
          ]
        }
      ]
    },
    {
      "cell_type": "markdown",
      "source": [
        "The GRID2DEMAND module generates the zone and demand files using the node, link, and poi files. Please refer to the official [GRID2DEMAND GitHub](https://github.com/asu-trans-ai-lab/grid2demand) website for more details."
      ],
      "metadata": {
        "id": "_lNR-C5LgxF5"
      }
    },
    {
      "cell_type": "code",
      "source": [
        "if __name__ == \"__main__\":\n",
        "\n",
        "    # Specify the input directory, if working directory is not the default directory\n",
        "    # input_dir = \"place_holder\"\n",
        "    # gd = GRID2DEMAND(input_dir)\n",
        "\n",
        "    gd = GRID2DEMAND()\n",
        "    node_dict, poi_dict = gd.load_network.values()\n",
        "\n",
        "    # Generate grids based on number of blocks in x and y directions\n",
        "    zone_dict = gd.net2zone(node_dict, num_x_blocks=10, num_y_blocks=10)\n",
        "    # Alternatively, grids can be generated by distance (kilometers)\n",
        "    # zone_dict = gd.net2zone(node_dict, cell_width=10, cell_height=10)\n",
        "\n",
        "    updated_dict = gd.sync_geometry_between_zone_and_node_poi(zone_dict, node_dict, poi_dict)\n",
        "    zone_dict_update, node_dict_update, poi_dict_update = updated_dict.values()\n",
        "\n",
        "    # Calculate zone-to-zone od distance matrix\n",
        "    zone_od_distance_matrix = gd.calc_zone_od_distance_matrix(zone_dict_update)\n",
        "\n",
        "    # Generate poi trip rate for each poi\n",
        "    poi_trip_rate = gd.gen_poi_trip_rate(poi_dict_update)\n",
        "\n",
        "    # Generate node production attraction for each node based on poi_trip_rate\n",
        "    node_prod_attr = gd.gen_node_prod_attr(node_dict_update, poi_trip_rate)\n",
        "\n",
        "    # Calculate zone production and attraction based on node production and attraction\n",
        "    zone_prod_attr = gd.calc_zone_prod_attr(node_prod_attr, zone_dict_update)\n",
        "\n",
        "    # Run gravity model to generate agent-based demand\n",
        "    df_demand = gd.run_gravity_model(zone_prod_attr, zone_od_distance_matrix)\n",
        "\n",
        "    # Generate agent-based demand\n",
        "    df_agent = gd.gen_agent_based_demand(node_prod_attr, zone_prod_attr, df_demand=df_demand)\n",
        "\n",
        "    # Step 9: Output demand, agent, zone, zone_od_dist_table, zone_od_dist_matrix files\n",
        "    gd.save_demand\n",
        "    gd.save_agent\n",
        "    gd.save_zone\n",
        "    gd.save_zone_od_dist_table\n",
        "    gd.save_zone_od_dist_matrix"
      ],
      "metadata": {
        "colab": {
          "base_uri": "https://localhost:8080/"
        },
        "id": "UryQtxBQbgss",
        "outputId": "515431b3-2e47-4c24-a74b-447f34eb6332"
      },
      "execution_count": null,
      "outputs": [
        {
          "output_type": "stream",
          "name": "stdout",
          "text": [
            "  : Input directory is not specified.                   Use current working directory /content as input directory.                   Please make sure node.csv and poi.csv are in /content.\n",
            "  : Checking input directory...\n",
            "  : input dir /content, traverse files by type: csv\n",
            "  : Error: Required files are not satisfied,           missing files are: ['zone.csv']\n",
            "  : Input directory is valid.\n",
            "\n",
            "  : Loading default package settings...\n",
            "  : Package settings loaded successfully.\n",
            "\n",
            "INFO Begin to run function: read_network …\n",
            "  : input dir /content, traverse files by type: csv\n",
            "INFO Begin to run function: read_node …\n",
            "  : Parallel creating Nodes using Pool with 2 CPUs. Please wait...\n",
            "  : Reading node.csv with specified columns: ['node_id', 'x_coord', 'y_coord', 'activity_type', 'is_boundary', 'poi_id']                 \n",
            "    and chunksize 10000 for iterations...\n",
            "  : Successfully loaded node.csv: 628 Nodes loaded.\n",
            "INFO Finished running function: read_node, total: 0s\n",
            "\n",
            "INFO Begin to run function: read_poi …\n",
            "  : Reading poi.csv with specified columns: ['poi_id', 'building', 'centroid', 'area', 'geometry']                 \n",
            "    and chunksize 10000 for iterations...\n",
            "  : Parallel creating POIs using Pool with 2 CPUs. Please wait...\n",
            "  : Successfully loaded poi.csv: 511 POIs loaded.\n",
            "INFO Finished running function: read_poi, total: 0s\n",
            "\n",
            "  : Successfully loaded node.csv and poi.csv: 628 Nodes and 511 POIs.\n",
            "INFO Finished running function: read_network, total: 0s\n",
            "\n",
            "  : Note: This method will generate grid-based zones from node_dict.               \n",
            "  : If you want to use your own zones(TAZs),               \n",
            "  : please skip this method and use taz2zone() instead. \n",
            "\n",
            "  : Generating zone dictionary...\n",
            "INFO Begin to run function: net2zone …\n",
            "INFO Begin to run function: get_lng_lat_min_max …\n",
            "INFO Finished running function: get_lng_lat_min_max, total: 0s\n",
            "\n",
            "  : Successfully generated zone dictionary: 100 Zones generated,         \n",
            "    plus 40 boundary gates (points))\n",
            "INFO Finished running function: net2zone, total: 0s\n",
            "\n",
            "  : Synchronizing geometry between zone and node/poi...\n",
            "INFO Begin to run function: sync_zone_and_node_geometry …\n",
            "  : Parallel synchronizing Nodes and Zones using Pool with 2 CPUs. Please wait...\n",
            "  : Successfully synchronized zone and node geometry\n",
            "INFO Finished running function: sync_zone_and_node_geometry, total: 0s\n",
            "\n",
            "INFO Begin to run function: sync_zone_and_poi_geometry …\n",
            "  : Parallel synchronizing POIs and Zones using Pool with 2 CPUs. Please wait...\n",
            "  : Successfully synchronized zone and poi geometry\n",
            "INFO Finished running function: sync_zone_and_poi_geometry, total: 0s\n",
            "\n",
            "INFO Begin to run function: calc_zone_od_matrix …\n",
            "  : Parallel calculating zone-to-zone distance matrix using Pool with 2 CPUs. Please wait...\n"
          ]
        },
        {
          "output_type": "stream",
          "name": "stderr",
          "text": [
            "/usr/local/lib/python3.10/dist-packages/grid2demand/utils_lib/utils.py:99: RuntimeWarning: invalid value encountered in arccos\n",
            "  arc_length = np.arccos(cosine) * earth_radius\n"
          ]
        },
        {
          "output_type": "stream",
          "name": "stdout",
          "text": [
            "  : Successfully calculated zone-to-zone distance matrix\n",
            "INFO Finished running function: calc_zone_od_matrix, total: 4s\n",
            "\n",
            "No trip rate file is provided, use default trip rate.\n",
            "  : Successfully generated poi trip rate with default setting.\n",
            "  : Successfully generated production and attraction for each node based on poi trip rate.\n",
            "  : Successfully calculated zone production and attraction based on node production and attraction.\n",
            "  : Successfully calculated zone od friction attraction.\n",
            "  : Successfully run gravity model to generate demand.csv.\n",
            "  : Successfully generated agent-based demand data.\n",
            "  : Successfully saved demand.csv to /content\n",
            "  : Successfully saved agent.csv to /content\n",
            "  : Successfully saved zone.csv to /content\n",
            "  : Successfully saved zone_od_dist_table.csv to /content\n",
            "  : Successfully saved zone_od_dist_matrix.csv to /content\n"
          ]
        }
      ]
    },
    {
      "cell_type": "markdown",
      "source": [
        "The final step is running the DTA component from the PATH4GMNS module and produces important results (such as link_performance) from all the previously obtained files. Please refer to the official [DTALite GitHub](https://github.com/asu-trans-ai-lab/DTALite) website for more details."
      ],
      "metadata": {
        "id": "VvocFHUDh-B3"
      }
    },
    {
      "cell_type": "code",
      "source": [
        "node = pd.read_csv('node.csv')\n",
        "link = pd.read_csv('link.csv')\n",
        "demand = pd.read_csv('demand.csv')"
      ],
      "metadata": {
        "id": "9P7rbEg9bhYc"
      },
      "execution_count": null,
      "outputs": []
    },
    {
      "cell_type": "code",
      "source": [
        "# CAUTION: Colabs will sometimes crash when DTALite is run. It is recommended to run this on your system.\n",
        "pg.run_DTALite()"
      ],
      "metadata": {
        "id": "5lHEto7BbjNb"
      },
      "execution_count": null,
      "outputs": []
    }
  ]
}